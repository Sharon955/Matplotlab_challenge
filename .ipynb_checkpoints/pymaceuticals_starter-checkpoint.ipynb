{
 "cells": [
  {
   "cell_type": "markdown",
   "metadata": {},
   "source": [
    "## Observations and Insights"
   ]
  },
  {
   "cell_type": "markdown",
   "metadata": {},
   "source": []
  },
  {
   "cell_type": "markdown",
   "metadata": {},
   "source": [
    "The three observations or inferences are:\n",
    "1. Capomulin (target treatment) has the second smallest mean & variance on tumor volume over time compare to all other alternatives tested, which is slightly bigger than Ramicane\n",
    "2. There are no outliers for the result of 4 most promising regimens\n",
    "3. There is a positive correlation between Mouse Weight and Average Tumor Volume (treated by Capomulin)"
   ]
  },
  {
   "cell_type": "markdown",
   "metadata": {},
   "source": [
    "## Dependencies and starter code"
   ]
  },
  {
   "cell_type": "code",
   "execution_count": 1,
   "metadata": {},
   "outputs": [
    {
     "data": {
      "text/html": [
       "<div>\n",
       "<style scoped>\n",
       "    .dataframe tbody tr th:only-of-type {\n",
       "        vertical-align: middle;\n",
       "    }\n",
       "\n",
       "    .dataframe tbody tr th {\n",
       "        vertical-align: top;\n",
       "    }\n",
       "\n",
       "    .dataframe thead th {\n",
       "        text-align: right;\n",
       "    }\n",
       "</style>\n",
       "<table border=\"1\" class=\"dataframe\">\n",
       "  <thead>\n",
       "    <tr style=\"text-align: right;\">\n",
       "      <th></th>\n",
       "      <th>Mouse ID</th>\n",
       "      <th>Drug Regimen</th>\n",
       "      <th>Sex</th>\n",
       "      <th>Age_months</th>\n",
       "      <th>Weight (g)</th>\n",
       "      <th>Timepoint</th>\n",
       "      <th>Tumor Volume (mm3)</th>\n",
       "      <th>Metastatic Sites</th>\n",
       "    </tr>\n",
       "  </thead>\n",
       "  <tbody>\n",
       "    <tr>\n",
       "      <td>0</td>\n",
       "      <td>k403</td>\n",
       "      <td>Ramicane</td>\n",
       "      <td>Male</td>\n",
       "      <td>21</td>\n",
       "      <td>16</td>\n",
       "      <td>0</td>\n",
       "      <td>45.000000</td>\n",
       "      <td>0</td>\n",
       "    </tr>\n",
       "    <tr>\n",
       "      <td>1</td>\n",
       "      <td>k403</td>\n",
       "      <td>Ramicane</td>\n",
       "      <td>Male</td>\n",
       "      <td>21</td>\n",
       "      <td>16</td>\n",
       "      <td>5</td>\n",
       "      <td>38.825898</td>\n",
       "      <td>0</td>\n",
       "    </tr>\n",
       "    <tr>\n",
       "      <td>2</td>\n",
       "      <td>k403</td>\n",
       "      <td>Ramicane</td>\n",
       "      <td>Male</td>\n",
       "      <td>21</td>\n",
       "      <td>16</td>\n",
       "      <td>10</td>\n",
       "      <td>35.014271</td>\n",
       "      <td>1</td>\n",
       "    </tr>\n",
       "    <tr>\n",
       "      <td>3</td>\n",
       "      <td>k403</td>\n",
       "      <td>Ramicane</td>\n",
       "      <td>Male</td>\n",
       "      <td>21</td>\n",
       "      <td>16</td>\n",
       "      <td>15</td>\n",
       "      <td>34.223992</td>\n",
       "      <td>1</td>\n",
       "    </tr>\n",
       "    <tr>\n",
       "      <td>4</td>\n",
       "      <td>k403</td>\n",
       "      <td>Ramicane</td>\n",
       "      <td>Male</td>\n",
       "      <td>21</td>\n",
       "      <td>16</td>\n",
       "      <td>20</td>\n",
       "      <td>32.997729</td>\n",
       "      <td>1</td>\n",
       "    </tr>\n",
       "  </tbody>\n",
       "</table>\n",
       "</div>"
      ],
      "text/plain": [
       "  Mouse ID Drug Regimen   Sex  Age_months  Weight (g)  Timepoint  \\\n",
       "0     k403     Ramicane  Male          21          16          0   \n",
       "1     k403     Ramicane  Male          21          16          5   \n",
       "2     k403     Ramicane  Male          21          16         10   \n",
       "3     k403     Ramicane  Male          21          16         15   \n",
       "4     k403     Ramicane  Male          21          16         20   \n",
       "\n",
       "   Tumor Volume (mm3)  Metastatic Sites  \n",
       "0           45.000000                 0  \n",
       "1           38.825898                 0  \n",
       "2           35.014271                 1  \n",
       "3           34.223992                 1  \n",
       "4           32.997729                 1  "
      ]
     },
     "execution_count": 1,
     "metadata": {},
     "output_type": "execute_result"
    }
   ],
   "source": [
    "# Dependencies and Setup\n",
    "import matplotlib.pyplot as plt\n",
    "import pandas as pd\n",
    "import scipy.stats as st\n",
    "from scipy.stats import linregress\n",
    "\n",
    "# Study data files\n",
    "mouse_metadata = \"data/Mouse_metadata.csv\"\n",
    "study_results = \"data/Study_results.csv\"\n",
    "\n",
    "# Read the mouse data and the study results\n",
    "mouse_metadata = pd.read_csv(mouse_metadata)\n",
    "study_results = pd.read_csv(study_results)\n",
    "\n",
    "# Combine the data into a single dataset\n",
    "merged_raw = pd.merge(mouse_metadata,study_results,on = \"Mouse ID\", how = \"outer\") #is it outer join?\n",
    "merged_raw.head()"
   ]
  },
  {
   "cell_type": "markdown",
   "metadata": {},
   "source": [
    "## Summary statistics"
   ]
  },
  {
   "cell_type": "code",
   "execution_count": 2,
   "metadata": {},
   "outputs": [
    {
     "name": "stdout",
     "output_type": "stream",
     "text": [
      "                   Mean     Median   Variance  Standard Deviation       SEM\n",
      "Drug Regimen                                                               \n",
      "Capomulin     40.675741  41.557809  24.947764            4.994774  0.329346\n",
      "Ceftamin      52.591172  51.776157  39.290177            6.268188  0.469821\n",
      "Infubinol     52.884795  51.820584  43.128684            6.567243  0.492236\n",
      "Ketapril      55.235638  53.698743  68.553577            8.279709  0.603860\n",
      "Naftisol      54.331565  52.509285  66.173479            8.134708  0.596466\n",
      "Placebo       54.033581  52.288934  61.168083            7.821003  0.581331\n",
      "Propriva      52.322552  50.854632  42.351070            6.507770  0.512884\n",
      "Ramicane      40.216745  40.673236  23.486704            4.846308  0.320955\n",
      "Stelasyn      54.233149  52.431737  59.450562            7.710419  0.573111\n",
      "Zoniferol     53.236507  51.818479  48.533355            6.966589  0.516398\n"
     ]
    }
   ],
   "source": [
    "# Generate a summary statistics table of mean, median, variance, standard deviation, and SEM of the tumor volume\n",
    "#for each regimen\n",
    "# Generate a summary statistics table of mean, median, variance, standard deviation, \n",
    "#and SEM of the tumor volume for each regimen\n",
    "mean_regimen_table = merged_raw.groupby([\"Drug Regimen\"]).mean().drop(\n",
    "    columns = [\"Age_months\",\"Weight (g)\",\"Timepoint\",\"Metastatic Sites\"]).rename(columns={\"Tumor Volume (mm3)\":\"Mean\"})\n",
    "median_regimen_table = merged_raw.groupby([\"Drug Regimen\"]).median().drop(\n",
    "    columns = [\"Age_months\",\"Weight (g)\",\"Timepoint\",\"Metastatic Sites\"]).rename(columns={\"Tumor Volume (mm3)\":\"Median\"})\n",
    "summary_stat1 = pd.merge(mean_regimen_table,median_regimen_table,on = \"Drug Regimen\", how = \"outer\")\n",
    "\n",
    "var_regimen_table = merged_raw.groupby([\"Drug Regimen\"]).var().drop(\n",
    "    columns = [\"Age_months\",\"Weight (g)\",\"Timepoint\",\"Metastatic Sites\"]).rename(columns={\"Tumor Volume (mm3)\":\"Variance\"})\n",
    "summary_stat2 = pd.merge(summary_stat1,var_regimen_table,on = \"Drug Regimen\", how = \"outer\")\n",
    "\n",
    "std_regimen_table = merged_raw.groupby([\"Drug Regimen\"]).std().drop(\n",
    "    columns = [\"Age_months\",\"Weight (g)\",\"Timepoint\",\"Metastatic Sites\"]).rename(columns={\"Tumor Volume (mm3)\":\"Standard Deviation\"})\n",
    "summary_stat3 = pd.merge(summary_stat2,std_regimen_table,on = \"Drug Regimen\", how = \"outer\")\n",
    "\n",
    "sem_regimen_table = merged_raw.groupby([\"Drug Regimen\"]).sem().drop(\n",
    "    columns = [\"Age_months\",\"Weight (g)\",\"Timepoint\",\"Metastatic Sites\",\"Mouse ID\",\"Sex\"]).rename(columns={\"Tumor Volume (mm3)\":\"SEM\"})\n",
    "summary_statistics = pd.merge(summary_stat3,sem_regimen_table,on = \"Drug Regimen\", how = \"outer\")\n",
    "print(summary_statistics)"
   ]
  },
  {
   "cell_type": "markdown",
   "metadata": {},
   "source": [
    "## Bar plots"
   ]
  },
  {
   "cell_type": "code",
   "execution_count": 3,
   "metadata": {},
   "outputs": [
    {
     "data": {
      "text/plain": [
       "[Text(0, 0, 'Capomulin'),\n",
       " Text(0, 0, 'Ceftamin'),\n",
       " Text(0, 0, 'Infubinol'),\n",
       " Text(0, 0, 'Ketapril'),\n",
       " Text(0, 0, 'Naftisol'),\n",
       " Text(0, 0, 'Placebo'),\n",
       " Text(0, 0, 'Propriva'),\n",
       " Text(0, 0, 'Ramicane'),\n",
       " Text(0, 0, 'Stelasyn'),\n",
       " Text(0, 0, 'Zoniferol')]"
      ]
     },
     "execution_count": 3,
     "metadata": {},
     "output_type": "execute_result"
    },
    {
     "data": {
      "image/png": "[encoded data removed]",
      "text/plain": [
       "<Figure size 720x216 with 1 Axes>"
      ]
     },
     "metadata": {
      "needs_background": "light"
     },
     "output_type": "display_data"
    }
   ],
   "source": [
    "# Generate a bar plot showing number of data points for each treatment regimen using pandas\n",
    "bar_raw = merged_raw[[\"Drug Regimen\",\"Mouse ID\"]].groupby(\"Drug Regimen\").count()\n",
    "bar_raw_noindex = bar_raw.reset_index()\n",
    "drug_bar = bar_raw.plot(kind=\"bar\",width = 0.7,figsize = (10,3))\n",
    "drug_bar.set_xlabel(\"Drug Regimen\")\n",
    "drug_bar.set_ylabel(\"Count of Mouse\")\n",
    "drug_bar.set_xticklabels(bar_raw_noindex[\"Drug Regimen\"], rotation = 0)"
   ]
  },
  {
   "cell_type": "code",
   "execution_count": 4,
   "metadata": {},
   "outputs": [
    {
     "data": {
      "text/plain": [
       "<matplotlib.legend.Legend at 0x20aef2b5dc8>"
      ]
     },
     "execution_count": 4,
     "metadata": {},
     "output_type": "execute_result"
    },
    {
     "data": {
      "image/png": "[encoded data removed]",
      "text/plain": [
       "<Figure size 720x216 with 1 Axes>"
      ]
     },
     "metadata": {
      "needs_background": "light"
     },
     "output_type": "display_data"
    }
   ],
   "source": [
    "# Generate a bar plot showing number of data points for each treatment regimen using pyplot\n",
    "count_drug = merged_raw.groupby([\"Drug Regimen\"]).count().reset_index()\n",
    "plt.figure(figsize=(10,3))\n",
    "plt.bar(count_drug[\"Drug Regimen\"],count_drug[\"Mouse ID\"],width = 0.7,label = \"Mouse ID\")\n",
    "plt.xlabel(\"Drug Regimen\")\n",
    "plt.ylabel(\"Count of Mouse\")\n",
    "plt.title(\"Number of Mouse per Treatment Regimen\")\n",
    "plt.legend(loc=\"upper right\")"
   ]
  },
  {
   "cell_type": "markdown",
   "metadata": {},
   "source": [
    "## Pie plots"
   ]
  },
  {
   "cell_type": "code",
   "execution_count": 5,
   "metadata": {},
   "outputs": [
    {
     "data": {
      "text/plain": [
       "Text(0, 0.5, '')"
      ]
     },
     "execution_count": 5,
     "metadata": {},
     "output_type": "execute_result"
    },
    {
     "data": {
      "image/png": "[encoded data removed]",
      "text/plain": [
       "<Figure size 432x288 with 1 Axes>"
      ]
     },
     "metadata": {},
     "output_type": "display_data"
    }
   ],
   "source": [
    "# Generate a pie plot showing the distribution of female versus male mice using pandas\n",
    "pie_raw = mouse_metadata[[\"Mouse ID\", \"Sex\"]].groupby(\"Sex\").count()\n",
    "pie_raw_noindex = pie_raw.reset_index()\n",
    "sex_pie = pie_raw.plot(kind = \"pie\", y = \"Mouse ID\",autopct = \"%1.1f%%\",shadow = True,startangle = 90, \n",
    "                       title = \"Mouse Count by Sex\", legend=\"\")\n",
    "sex_pie.set_ylabel(\"\")"
   ]
  },
  {
   "cell_type": "code",
   "execution_count": 6,
   "metadata": {
    "scrolled": true
   },
   "outputs": [
    {
     "data": {
      "text/plain": [
       "Text(0.5, 1.0, 'Mouse Count by Sex')"
      ]
     },
     "execution_count": 6,
     "metadata": {},
     "output_type": "execute_result"
    },
    {
     "data": {
      "image/png": "[encoded data removed]",
      "text/plain": [
       "<Figure size 432x288 with 1 Axes>"
      ]
     },
     "metadata": {},
     "output_type": "display_data"
    }
   ],
   "source": [
    "# Generate a pie plot showing the distribution of female versus male mice using pyplot\n",
    "count_sex = mouse_metadata.groupby([\"Sex\"]).count().reset_index()\n",
    "plt.pie(count_sex[\"Mouse ID\"],labels = [\"Female\", \"Male\"],autopct = \"%1.1f%%\",shadow = True,startangle = 90)\n",
    "plt.title(\"Mouse Count by Sex\")"
   ]
  },
  {
   "cell_type": "markdown",
   "metadata": {},
   "source": [
    "## Quartiles, outliers and boxplots"
   ]
  },
  {
   "cell_type": "code",
   "execution_count": 7,
   "metadata": {
    "scrolled": true
   },
   "outputs": [
    {
     "name": "stdout",
     "output_type": "stream",
     "text": [
      "There are NO outliers in final tumor volume for Capomulin\n",
      "There are NO outliers in final tumor volume for Ramicane\n",
      "There are NO outliers in final tumor volume for Infubinol\n",
      "There are NO outliers in final tumor volume for Ceftamin\n",
      "_________________________________________________________________________________\n",
      "For your reference: The IQR and Upper/Lower bound for outliers for 4 most promising regimens are:\n",
      "     Regimen       IQR  Lower bound for outliers  Upper bound for outliers\n",
      "0  Capomulin  7.781863                 20.704562                 51.832015\n",
      "1   Ramicane  7.527130                 19.690480                 49.799000\n",
      "2  Infubinol  4.931117                 55.357776                 75.082244\n",
      "3   Ceftamin  6.093590                 52.293507                 76.667868\n"
     ]
    }
   ],
   "source": [
    "# Calculate the final tumor volume of each mouse across four of the most promising treatment regimens. Calculate the IQR \n",
    "# and quantitatively determine if there are any potential outliers. \n",
    "four_regimens = (merged_raw[\"Drug Regimen\"] == \"Capomulin\") | (\n",
    "    merged_raw[\"Drug Regimen\"] == \"Ramicane\") | (merged_raw[\"Drug Regimen\"] == \"Infubinol\") | (\n",
    "    merged_raw[\"Drug Regimen\"] == \"Ceftamin\")\n",
    "four_regimens_raw = merged_raw[four_regimens]\n",
    "\n",
    "#Get dataset for 4 treatments:\n",
    "final_time = four_regimens_raw[\"Timepoint\"] == 45\n",
    "final_vol_raw = four_regimens_raw[final_time]\n",
    "\n",
    "final_vol_capomulin = pd.DataFrame(final_vol_raw.loc[final_vol_raw[\"Drug Regimen\"] == \"Capomulin\"][\"Tumor Volume (mm3)\"])\n",
    "final_vol_ramicane = pd.DataFrame(final_vol_raw.loc[final_vol_raw[\"Drug Regimen\"] == \"Ramicane\"][\"Tumor Volume (mm3)\"])\n",
    "final_vol_infubinol = pd.DataFrame(final_vol_raw.loc[final_vol_raw[\"Drug Regimen\"] == \"Infubinol\"][\"Tumor Volume (mm3)\"])\n",
    "final_vol_ceftamin = pd.DataFrame(final_vol_raw.loc[final_vol_raw[\"Drug Regimen\"] == \"Ceftamin\"][\"Tumor Volume (mm3)\"])\n",
    "\n",
    "#Quantiles & IQR\n",
    "four_regimen_list = [final_vol_capomulin,final_vol_ramicane,final_vol_infubinol,final_vol_ceftamin]\n",
    "iqr_list = []\n",
    "regimen_list = [\"Capomulin\", \"Ramicane\", \"Infubinol\", \"Ceftamin\"]\n",
    "lower_bound_list = []\n",
    "upper_bound_list = []\n",
    "iqr_dict = {}\n",
    "for index,item in enumerate(four_regimen_list):\n",
    "    quartiles = item.quantile([.25,.5,.75])[\"Tumor Volume (mm3)\"]\n",
    "    lower_quantile = quartiles[.25]\n",
    "    upper_quantile = quartiles[.75]\n",
    "    iqr = upper_quantile - lower_quantile\n",
    "    iqr_list.append(iqr)\n",
    "    \n",
    "    lower_bound = lower_quantile - (1.5*iqr)\n",
    "    upper_bound = upper_quantile + (1.5*iqr)\n",
    "    lower_bound_list.append(lower_bound)\n",
    "    upper_bound_list.append(upper_bound)\n",
    "    \n",
    "    #Determine if there are outliers\n",
    "    \n",
    "    \n",
    "    if (min(item[\"Tumor Volume (mm3)\"]) < lower_bound) | (max(item[\"Tumor Volume (mm3)\"]) > upper_bound):\n",
    "        print(f\"There are outliers in final tumor volume for {regimen_list[index]}\")\n",
    "    else:\n",
    "        print(f\"There are NO outliers in final tumor volume for {regimen_list[index]}\")\n",
    "    \n",
    "#print IQR, upper&lower bound for ourlier table  \n",
    "quantile_table_pre = {\"Regimen\": regimen_list, \"IQR\": iqr_list, \n",
    "                      \"Lower bound for outliers\": lower_bound_list, \"Upper bound for outliers\": upper_bound_list}\n",
    "quantile_table = pd.DataFrame(quantile_table_pre)\n",
    "\n",
    "print(\"_________________________________________________________________________________\")\n",
    "print(\"For your reference: The IQR and Upper/Lower bound for outliers for 4 most promising regimens are:\")\n",
    "print(quantile_table)\n"
   ]
  },
  {
   "cell_type": "code",
   "execution_count": 8,
   "metadata": {},
   "outputs": [
    {
     "data": {
      "text/plain": [
       "([<matplotlib.axis.XTick at 0x20af03df848>,\n",
       "  <matplotlib.axis.XTick at 0x20af03d7d08>,\n",
       "  <matplotlib.axis.XTick at 0x20af0420e08>,\n",
       "  <matplotlib.axis.XTick at 0x20af0416548>],\n",
       " <a list of 4 Text xticklabel objects>)"
      ]
     },
     "execution_count": 8,
     "metadata": {},
     "output_type": "execute_result"
    },
    {
     "data": {
      "image/png": "[encoded data removed]",
      "text/plain": [
       "<Figure size 432x288 with 1 Axes>"
      ]
     },
     "metadata": {
      "needs_background": "light"
     },
     "output_type": "display_data"
    }
   ],
   "source": [
    "# Generate a box plot of the final tumor volume of each mouse across four regimens of interest\n",
    "final_vol_cap = final_vol_raw.loc[final_vol_raw[\"Drug Regimen\"] == \"Capomulin\"][\"Tumor Volume (mm3)\"]\n",
    "final_vol_ram = final_vol_raw.loc[final_vol_raw[\"Drug Regimen\"] == \"Ramicane\"][\"Tumor Volume (mm3)\"]\n",
    "final_vol_inf = final_vol_raw.loc[final_vol_raw[\"Drug Regimen\"] == \"Infubinol\"][\"Tumor Volume (mm3)\"]\n",
    "final_vol_cef = final_vol_raw.loc[final_vol_raw[\"Drug Regimen\"] == \"Ceftamin\"][\"Tumor Volume (mm3)\"]\n",
    "\n",
    "boxplot_data = [final_vol_cap,final_vol_ram, final_vol_inf, final_vol_cef]\n",
    "fig1, ax1 = plt.subplots()\n",
    "ax1.boxplot(boxplot_data,0,\"gD\")\n",
    "plt.title(\"Final Tumor Volume for 4 Regimens\")\n",
    "plt.ylabel(\"Final Tumor Volume\")\n",
    "plt.xticks([1,2,3,4],regimen_list)"
   ]
  },
  {
   "cell_type": "markdown",
   "metadata": {},
   "source": [
    "## Line and scatter plots"
   ]
  },
  {
   "cell_type": "code",
   "execution_count": 9,
   "metadata": {},
   "outputs": [
    {
     "data": {
      "text/plain": [
       "Text(0, 0.5, 'Tumor Volume (mm3)')"
      ]
     },
     "execution_count": 9,
     "metadata": {},
     "output_type": "execute_result"
    },
    {
     "data": {
      "image/png": "[encoded data removed]",
      "text/plain": [
       "<Figure size 432x288 with 1 Axes>"
      ]
     },
     "metadata": {
      "needs_background": "light"
     },
     "output_type": "display_data"
    }
   ],
   "source": [
    "# Generate a line plot of time point versus tumor volume for a mouse treated with Capomulin\n",
    "single_mouse_raw = merged_raw.loc[merged_raw[\"Mouse ID\"]==\"b128\"][[\"Timepoint\",\"Tumor Volume (mm3)\"]]\n",
    "line_x = single_mouse_raw[\"Timepoint\"]\n",
    "line_y = single_mouse_raw[\"Tumor Volume (mm3)\"]\n",
    "plt.plot(line_x, line_y)\n",
    "plt.title(\"Tumor Volume for a Single Mouse with Capomulin\")\n",
    "plt.xlabel(\"Timeline\")\n",
    "plt.ylabel(\"Tumor Volume (mm3)\")"
   ]
  },
  {
   "cell_type": "code",
   "execution_count": 10,
   "metadata": {},
   "outputs": [
    {
     "data": {
      "text/plain": [
       "Text(0.5, 1.0, 'Average Tumor Volume by Mouse Weight')"
      ]
     },
     "execution_count": 10,
     "metadata": {},
     "output_type": "execute_result"
    },
    {
     "data": {
      "image/png": "[encoded data removed]",
      "text/plain": [
       "<Figure size 432x288 with 1 Axes>"
      ]
     },
     "metadata": {
      "needs_background": "light"
     },
     "output_type": "display_data"
    }
   ],
   "source": [
    "# Generate a scatter plot of mouse weight versus average tumor volume for the Capomulin regimen\n",
    "capo_mouse_raw = merged_raw.loc[merged_raw[\"Drug Regimen\"]==\"Capomulin\"].groupby(\n",
    "    \"Mouse ID\").mean()[[\"Weight (g)\", \"Tumor Volume (mm3)\"]]\n",
    "plt.scatter(capo_mouse_raw[\"Weight (g)\"],capo_mouse_raw[\"Tumor Volume (mm3)\"])\n",
    "plt.xlabel(\"Mouse Weight\")\n",
    "plt.ylabel(\"Average Tumor Volume (mm3)\")\n",
    "plt.title(\"Average Tumor Volume by Mouse Weight\")"
   ]
  },
  {
   "cell_type": "code",
   "execution_count": 11,
   "metadata": {},
   "outputs": [
    {
     "name": "stdout",
     "output_type": "stream",
     "text": [
      "The correlation between Mouse Weight and Average Tumor Volume for mice treated by Capomulin is 0.84\n"
     ]
    },
    {
     "data": {
      "image/png": "[encoded data removed]",
      "text/plain": [
       "<Figure size 432x288 with 1 Axes>"
      ]
     },
     "metadata": {
      "needs_background": "light"
     },
     "output_type": "display_data"
    }
   ],
   "source": [
    "# Calculate the correlation coefficient and linear regression model for mouse weight and average tumor volume for \n",
    "#the Capomulin regimen\n",
    "\n",
    "#Correlation\n",
    "correlation = st.pearsonr(capo_mouse_raw[\"Weight (g)\"],capo_mouse_raw[\"Tumor Volume (mm3)\"])\n",
    "print(f\"The correlation between Mouse Weight and Average Tumor Volume for mice treated by Capomulin is {round(correlation[0],2)}\")\n",
    "\n",
    "#Linear Regression Model\n",
    "linear_x = capo_mouse_raw[\"Weight (g)\"]\n",
    "linear_y = capo_mouse_raw[\"Tumor Volume (mm3)\"]\n",
    "(slope, intercept, rvalue, pvalue, stderr) = linregress(linear_x, linear_y)\n",
    "regress_values = linear_x * slope + intercept\n",
    "line_eq = \"y = \" + str(round(slope,2)) + \"x + \" + str(round(intercept,2))\n",
    "plt.scatter(linear_x, linear_y)\n",
    "plt.plot(linear_x, regress_values,\"r-\")\n",
    "plt.annotate(line_eq,(20,38),fontsize=15,color=\"red\")\n",
    "plt.xlabel('Rooms in House')\n",
    "plt.ylabel('Median House Prices ($1000)')\n",
    "plt.show()\n"
   ]
  },
  {
   "cell_type": "markdown",
   "metadata": {},
   "source": [
    "The three observations or inferences are:\n",
    "\n",
    "1. Capomulin (target treatment) has the second smallest mean & variance on tumor volume over time compare to all other alternatives tested, which is slightly bigger than Ramicane\n",
    "2. There are no outliers for the result of 4 most promising regimens\n",
    "3. There is a positive correlation between Mouse Weight and Average Tumor Volume (treated by Capomulin)"
   ]
  },
  {
   "cell_type": "code",
   "execution_count": null,
   "metadata": {},
   "outputs": [],
   "source": []
  }
 ],
 "metadata": {
  "anaconda-cloud": {},
  "kernelspec": {
   "display_name": "Python 3",
   "language": "python",
   "name": "python3"
  },
  "language_info": {
   "codemirror_mode": {
    "name": "ipython",
    "version": 3
   },
   "file_extension": ".py",
   "mimetype": "text/x-python",
   "name": "python",
   "nbconvert_exporter": "python",
   "pygments_lexer": "ipython3",
   "version": "3.7.4"
  }
 },
 "nbformat": 4,
 "nbformat_minor": 4
}
